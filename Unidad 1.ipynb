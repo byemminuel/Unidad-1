{
 "cells": [
  {
   "cell_type": "markdown",
   "id": "e1415a3b",
   "metadata": {},
   "source": [
    "# Unidad 1\n",
    "## Conceptos generales de Python"
   ]
  },
  {
   "cell_type": "code",
   "execution_count": null,
   "id": "70339a4e",
   "metadata": {},
   "outputs": [],
   "source": [
    "i = 15\n",
    "x = \"Hola mundo\""
   ]
  },
  {
   "cell_type": "code",
   "execution_count": null,
   "id": "44f73dae",
   "metadata": {},
   "outputs": [],
   "source": [
    "print(i)"
   ]
  },
  {
   "cell_type": "code",
   "execution_count": null,
   "id": "2a3c8c84",
   "metadata": {},
   "outputs": [],
   "source": [
    "print(\"x\")"
   ]
  },
  {
   "cell_type": "code",
   "execution_count": null,
   "id": "ed6a2e06",
   "metadata": {},
   "outputs": [],
   "source": [
    "print(x)"
   ]
  },
  {
   "cell_type": "code",
   "execution_count": null,
   "id": "afed40da",
   "metadata": {},
   "outputs": [],
   "source": [
    "print(\"x = \" + x)"
   ]
  },
  {
   "cell_type": "code",
   "execution_count": null,
   "id": "f20cf916",
   "metadata": {},
   "outputs": [],
   "source": [
    "print(\"x =\" + x)"
   ]
  },
  {
   "cell_type": "code",
   "execution_count": null,
   "id": "f9d97f2f",
   "metadata": {},
   "outputs": [],
   "source": [
    "mi-variable = 5\n"
   ]
  },
  {
   "cell_type": "code",
   "execution_count": null,
   "id": "2c14e349",
   "metadata": {},
   "outputs": [],
   "source": [
    "mi_variable = 5"
   ]
  },
  {
   "cell_type": "code",
   "execution_count": null,
   "id": "891d02d4",
   "metadata": {},
   "outputs": [],
   "source": [
    "# En la declaración de variables no se puede usar el guión\n",
    "# En su caso, se usa el guión bajo como se muestra en el siguiente bloque\n",
    "mi_variable = 5\n",
    "print(mi_variable)"
   ]
  },
  {
   "cell_type": "code",
   "execution_count": null,
   "id": "00ad0376",
   "metadata": {},
   "outputs": [],
   "source": [
    "print(\"Hola\\nmundo\")"
   ]
  },
  {
   "cell_type": "code",
   "execution_count": null,
   "id": "7e612af0",
   "metadata": {},
   "outputs": [],
   "source": [
    "print(\"Hola \\'mundo\\'\")"
   ]
  },
  {
   "cell_type": "code",
   "execution_count": null,
   "id": "76e1335f",
   "metadata": {},
   "outputs": [],
   "source": [
    "print(\"Hola \\\"mundo\\\"\")"
   ]
  },
  {
   "cell_type": "code",
   "execution_count": null,
   "id": "69a251e2",
   "metadata": {},
   "outputs": [],
   "source": [
    "print(\"Hola 'mundo'\")"
   ]
  },
  {
   "cell_type": "code",
   "execution_count": null,
   "id": "cd51f3b2",
   "metadata": {},
   "outputs": [],
   "source": [
    "print('Hola \"mundo\"')"
   ]
  },
  {
   "cell_type": "code",
   "execution_count": null,
   "id": "fd1e0244",
   "metadata": {},
   "outputs": [],
   "source": [
    "print(\"********\")"
   ]
  },
  {
   "cell_type": "code",
   "execution_count": null,
   "id": "95eac0e0",
   "metadata": {},
   "outputs": [],
   "source": [
    "print(\"*\"*50)"
   ]
  },
  {
   "cell_type": "code",
   "execution_count": null,
   "id": "5ab1816d",
   "metadata": {},
   "outputs": [],
   "source": [
    "ola mundo\" * 500)"
   ]
  },
  {
   "cell_type": "code",
   "execution_count": null,
   "id": "f841006c",
   "metadata": {},
   "outputs": [],
   "source": [
    "print(\"Hola mundo\" * 500)"
   ]
  },
  {
   "cell_type": "code",
   "execution_count": null,
   "id": "a28a6737",
   "metadata": {},
   "outputs": [],
   "source": [
    "print(random(1,1000)*500)"
   ]
  },
  {
   "cell_type": "markdown",
   "id": "96c89011",
   "metadata": {},
   "source": [
    "## Operadores en Python"
   ]
  },
  {
   "cell_type": "code",
   "execution_count": null,
   "id": "b01634f1",
   "metadata": {},
   "outputs": [],
   "source": [
    "print(3*59)"
   ]
  },
  {
   "cell_type": "code",
   "execution_count": null,
   "id": "50aed110",
   "metadata": {},
   "outputs": [],
   "source": [
    "print(10/3)"
   ]
  },
  {
   "cell_type": "code",
   "execution_count": null,
   "id": "167d36bc",
   "metadata": {},
   "outputs": [],
   "source": [
    "print(10 // 3)"
   ]
  },
  {
   "cell_type": "code",
   "execution_count": null,
   "id": "c53397c3",
   "metadata": {},
   "outputs": [],
   "source": [
    "print(10//4)"
   ]
  },
  {
   "cell_type": "code",
   "execution_count": null,
   "id": "c299f927",
   "metadata": {},
   "outputs": [],
   "source": [
    "print(9 % 2)"
   ]
  },
  {
   "cell_type": "code",
   "execution_count": null,
   "id": "40f9b3ad",
   "metadata": {},
   "outputs": [],
   "source": [
    "print(10 % 3)"
   ]
  },
  {
   "cell_type": "code",
   "execution_count": null,
   "id": "a311f5f4",
   "metadata": {},
   "outputs": [],
   "source": [
    "print(2 + 3 * 5)"
   ]
  },
  {
   "cell_type": "code",
   "execution_count": null,
   "id": "1ba5b994",
   "metadata": {},
   "outputs": [],
   "source": [
    "print((2 + 3) * 5)"
   ]
  },
  {
   "cell_type": "code",
   "execution_count": null,
   "id": "a942a8c2",
   "metadata": {},
   "outputs": [],
   "source": [
    "x = 5"
   ]
  },
  {
   "cell_type": "code",
   "execution_count": null,
   "id": "881c9904",
   "metadata": {},
   "outputs": [],
   "source": [
    "y = 3.1416"
   ]
  },
  {
   "cell_type": "code",
   "execution_count": null,
   "id": "e352a438",
   "metadata": {},
   "outputs": [],
   "source": [
    "print(x * y)"
   ]
  },
  {
   "cell_type": "markdown",
   "id": "932c3450",
   "metadata": {},
   "source": [
    "### Convertir tipos de datos"
   ]
  },
  {
   "cell_type": "code",
   "execution_count": null,
   "id": "185960ec",
   "metadata": {},
   "outputs": [],
   "source": [
    "y = int(3.6)\n",
    "print(y)"
   ]
  },
  {
   "cell_type": "code",
   "execution_count": null,
   "id": "113b8809",
   "metadata": {},
   "outputs": [],
   "source": [
    "x = \"300\"\n",
    "print(x)\n",
    "type(x)"
   ]
  },
  {
   "cell_type": "code",
   "execution_count": null,
   "id": "4c02dbd1",
   "metadata": {},
   "outputs": [],
   "source": [
    "x = \"500\"\n",
    "z = int(x)\n",
    "print(z)\n",
    "type(z)"
   ]
  },
  {
   "cell_type": "markdown",
   "id": "5feb208d",
   "metadata": {},
   "source": [
    "### Entrada de datos"
   ]
  },
  {
   "cell_type": "code",
   "execution_count": null,
   "id": "8de7c2f6",
   "metadata": {},
   "outputs": [],
   "source": [
    "variable = input(\"Escribe tu nombre: \")\n",
    "print(\"Tu nombre es\", variable)"
   ]
  },
  {
   "cell_type": "code",
   "execution_count": null,
   "id": "e91b5f60",
   "metadata": {},
   "outputs": [],
   "source": [
    "x = input(\"Proporcioname un numero para multiplicarlo por 5: \")\n",
    "x = int(x)\n",
    "print(x * 5)"
   ]
  },
  {
   "cell_type": "code",
   "execution_count": 7,
   "id": "e99f9623",
   "metadata": {},
   "outputs": [
    {
     "name": "stdout",
     "output_type": "stream",
     "text": [
      "Calcular la hipotenusa de un triangulo rectangulo.\n",
      "Dame el valor de uno de los catetos: 6\n",
      "Dame el valor del otro cateto: 5\n",
      "Valor de la hipotenusa = 7.810249675906654\n"
     ]
    }
   ],
   "source": [
    "import math\n",
    "a = int(input(\"Calcular la hipotenusa de un triangulo rectangulo.\\nDame el valor de uno de los catetos: \"))\n",
    "b = int(input(\"Dame el valor del otro cateto: \"))\n",
    "print(\"Valor de la hipotenusa =\", math.sqrt(a*a+b*b))"
   ]
  },
  {
   "cell_type": "markdown",
   "id": "5fef9424",
   "metadata": {},
   "source": []
  }
 ],
 "metadata": {
  "kernelspec": {
   "display_name": "Python 3 (ipykernel)",
   "language": "python",
   "name": "python3"
  },
  "language_info": {
   "codemirror_mode": {
    "name": "ipython",
    "version": 3
   },
   "file_extension": ".py",
   "mimetype": "text/x-python",
   "name": "python",
   "nbconvert_exporter": "python",
   "pygments_lexer": "ipython3",
   "version": "3.9.12"
  }
 },
 "nbformat": 4,
 "nbformat_minor": 5
}
