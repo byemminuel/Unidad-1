{
 "cells": [
  {
   "cell_type": "code",
   "execution_count": 1,
   "id": "261d3199",
   "metadata": {},
   "outputs": [],
   "source": [
    "import sqlite3\n",
    "import pandas as pd\n",
    "from matplotlib import pyplot as plt\n",
    "%matplotlib inline"
   ]
  },
  {
   "cell_type": "code",
   "execution_count": 2,
   "id": "ca7b644a",
   "metadata": {},
   "outputs": [
    {
     "data": {
      "text/plain": [
       "<sqlite3.Connection at 0x205662745d0>"
      ]
     },
     "execution_count": 2,
     "metadata": {},
     "output_type": "execute_result"
    }
   ],
   "source": [
    "sqlite3.connect(\"phonebook.db\")"
   ]
  },
  {
   "cell_type": "code",
   "execution_count": 3,
   "id": "a28c945c",
   "metadata": {},
   "outputs": [],
   "source": [
    "conn = sqlite3.connect(\"phonebook.db\")"
   ]
  },
  {
   "cell_type": "code",
   "execution_count": 4,
   "id": "bc6641ae",
   "metadata": {},
   "outputs": [
    {
     "data": {
      "text/plain": [
       "<sqlite3.Cursor at 0x20566251570>"
      ]
     },
     "execution_count": 4,
     "metadata": {},
     "output_type": "execute_result"
    }
   ],
   "source": [
    "conn.cursor()"
   ]
  },
  {
   "cell_type": "code",
   "execution_count": 5,
   "id": "411e78a5",
   "metadata": {},
   "outputs": [],
   "source": [
    "cur = conn.cursor()"
   ]
  },
  {
   "cell_type": "code",
   "execution_count": 6,
   "id": "c59f80f9",
   "metadata": {},
   "outputs": [
    {
     "data": {
      "text/plain": [
       "<sqlite3.Cursor at 0x20566251a40>"
      ]
     },
     "execution_count": 6,
     "metadata": {},
     "output_type": "execute_result"
    }
   ],
   "source": [
    "query = \"SELECT nombre FROM coworkers;\"\n",
    "cur.execute(query)"
   ]
  },
  {
   "cell_type": "code",
   "execution_count": 7,
   "id": "364b2044",
   "metadata": {},
   "outputs": [
    {
     "data": {
      "text/plain": [
       "[('Han Solo',),\n",
       " ('Leia Skywalker',),\n",
       " ('Luke Skywalker',),\n",
       " ('Obi-Wan Kenobi',),\n",
       " ('Anakin Skywalker',),\n",
       " ('Jabba The Hutt',),\n",
       " ('Greedo',),\n",
       " ('R2D2',),\n",
       " ('C3PO',)]"
      ]
     },
     "execution_count": 7,
     "metadata": {},
     "output_type": "execute_result"
    }
   ],
   "source": [
    "cur.fetchall()"
   ]
  },
  {
   "cell_type": "code",
   "execution_count": 8,
   "id": "800666b5",
   "metadata": {},
   "outputs": [
    {
     "data": {
      "text/plain": [
       "[('Leia Skywalker',)]"
      ]
     },
     "execution_count": 8,
     "metadata": {},
     "output_type": "execute_result"
    }
   ],
   "source": [
    "query2 = \"SELECT nombre FROM coworkers WHERE título = 'Princess';\"\n",
    "cur.execute(query2)\n",
    "cur.fetchall()"
   ]
  },
  {
   "cell_type": "code",
   "execution_count": 9,
   "id": "ae211d06",
   "metadata": {},
   "outputs": [
    {
     "data": {
      "text/plain": [
       "[('Leia Skywalker',), ('Greedo',)]"
      ]
     },
     "execution_count": 9,
     "metadata": {},
     "output_type": "execute_result"
    }
   ],
   "source": [
    "query3 = \"SELECT nombre FROM coworkers WHERE título = 'Princess' OR título = 'Debt Collector';\"\n",
    "cur.execute(query3)\n",
    "cur.fetchall()"
   ]
  },
  {
   "cell_type": "code",
   "execution_count": 10,
   "id": "fbc915ce",
   "metadata": {},
   "outputs": [
    {
     "data": {
      "text/plain": [
       "[('Luke Skywalker', 5558963267.0), ('Obi-Wan Kenobi', 5558963276.0)]"
      ]
     },
     "execution_count": 10,
     "metadata": {},
     "output_type": "execute_result"
    }
   ],
   "source": [
    "query4 = \"SELECT nombre, número FROM coworkers WHERE título = 'Jedi';\"\n",
    "cur.execute(query4)\n",
    "cur.fetchall()"
   ]
  },
  {
   "cell_type": "code",
   "execution_count": 11,
   "id": "9fa32de9",
   "metadata": {},
   "outputs": [
    {
     "data": {
      "text/plain": [
       "[('R2D2',), ('C3PO',)]"
      ]
     },
     "execution_count": 11,
     "metadata": {},
     "output_type": "execute_result"
    }
   ],
   "source": [
    "query5 = \"SELECT nombre FROM coworkers WHERE título LIKE '%Droid%';\"\n",
    "cur.execute(query5)\n",
    "cur.fetchall()"
   ]
  },
  {
   "cell_type": "code",
   "execution_count": null,
   "id": "610c0f60",
   "metadata": {},
   "outputs": [],
   "source": []
  }
 ],
 "metadata": {
  "kernelspec": {
   "display_name": "Python 3 (ipykernel)",
   "language": "python",
   "name": "python3"
  },
  "language_info": {
   "codemirror_mode": {
    "name": "ipython",
    "version": 3
   },
   "file_extension": ".py",
   "mimetype": "text/x-python",
   "name": "python",
   "nbconvert_exporter": "python",
   "pygments_lexer": "ipython3",
   "version": "3.9.12"
  }
 },
 "nbformat": 4,
 "nbformat_minor": 5
}
